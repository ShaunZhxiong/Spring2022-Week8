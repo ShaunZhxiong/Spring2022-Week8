{
  "nbformat": 4,
  "nbformat_minor": 0,
  "metadata": {
    "colab": {
      "name": "DL_Basics1_SimpleMLP.ipynb",
      "provenance": [],
      "collapsed_sections": [],
      "toc_visible": true,
      "machine_shape": "hm",
      "include_colab_link": true
    },
    "kernelspec": {
      "name": "python3",
      "display_name": "Python 3"
    },
    "accelerator": "GPU"
  },
  "cells": [
    {
      "cell_type": "markdown",
      "metadata": {
        "id": "view-in-github",
        "colab_type": "text"
      },
      "source": [
        "<a href=\"https://colab.research.google.com/github/ShaunZhxiong/Spring2022-Week8/blob/master/DL_Basics1_SimpleMLP.ipynb\" target=\"_parent\"><img src=\"https://colab.research.google.com/assets/colab-badge.svg\" alt=\"Open In Colab\"/></a>"
      ]
    },
    {
      "cell_type": "markdown",
      "metadata": {
        "id": "zH0VLogCTY6h"
      },
      "source": [
        "\n",
        "# **Simple multi-layer perceptron**\n"
      ]
    },
    {
      "cell_type": "code",
      "metadata": {
        "id": "Krf1wwypTXdp"
      },
      "source": [
        "from __future__ import print_function\n",
        "\n",
        "# inlcude tensorflow but more friendly to new users\n",
        "import keras\n",
        "from keras.datasets import mnist\n",
        "from keras.models import Sequential\n",
        "from keras.layers import Dense, Dropout\n",
        "from keras.utils.np_utils import to_categorical\n",
        "from tensorflow.keras.optimizers import RMSprop\n",
        "import numpy as np"
      ],
      "execution_count": 1,
      "outputs": []
    },
    {
      "cell_type": "markdown",
      "metadata": {
        "id": "5B0Jjh9WTWzi"
      },
      "source": [
        "**Set vars, load MNIST (hand written digits) data**"
      ]
    },
    {
      "cell_type": "code",
      "metadata": {
        "id": "AkMEx7SBajpY",
        "colab": {
          "base_uri": "https://localhost:8080/"
        },
        "outputId": "066d63eb-53a4-4ea8-eddc-41cd413dccf1"
      },
      "source": [
        "batch_size = 20000\n",
        "# ten digits\n",
        "num_classes = 10\n",
        "\n",
        "# the data, split between train and test sets\n",
        "(x_train, y_train), (x_test, y_test) = mnist.load_data()\n"
      ],
      "execution_count": 2,
      "outputs": [
        {
          "output_type": "stream",
          "name": "stdout",
          "text": [
            "Downloading data from https://storage.googleapis.com/tensorflow/tf-keras-datasets/mnist.npz\n",
            "11493376/11490434 [==============================] - 0s 0us/step\n",
            "11501568/11490434 [==============================] - 0s 0us/step\n"
          ]
        }
      ]
    },
    {
      "cell_type": "code",
      "metadata": {
        "colab": {
          "base_uri": "https://localhost:8080/"
        },
        "id": "_ZcqDK4HVeZe",
        "outputId": "cd77722b-435b-4b2d-822b-f8b43f3c182f"
      },
      "source": [
        "x_train.shape"
      ],
      "execution_count": 3,
      "outputs": [
        {
          "output_type": "execute_result",
          "data": {
            "text/plain": [
              "(60000, 28, 28)"
            ]
          },
          "metadata": {},
          "execution_count": 3
        }
      ]
    },
    {
      "cell_type": "code",
      "metadata": {
        "colab": {
          "base_uri": "https://localhost:8080/"
        },
        "id": "vYdbeSuHVg1I",
        "outputId": "50e8d464-a39f-4977-8ee5-43100c1b12bd"
      },
      "source": [
        "np.sum(y_train==8)"
      ],
      "execution_count": 4,
      "outputs": [
        {
          "output_type": "execute_result",
          "data": {
            "text/plain": [
              "5851"
            ]
          },
          "metadata": {},
          "execution_count": 4
        }
      ]
    },
    {
      "cell_type": "markdown",
      "metadata": {
        "id": "nLIcIGRhV3_f"
      },
      "source": [
        "**Visualize data**"
      ]
    },
    {
      "cell_type": "code",
      "metadata": {
        "id": "6VylhwjlVr4x",
        "colab": {
          "base_uri": "https://localhost:8080/",
          "height": 282
        },
        "outputId": "fb5c88de-ede8-486f-a4dd-08c7e476c143"
      },
      "source": [
        "import matplotlib.pyplot as plt\n",
        "\n",
        "plt.imshow(x_train[3890],cmap=plt.cm.binary)\n",
        "plt.show()\n",
        "#x_train[0].shape\n",
        "\n",
        "print(y_train[3890])"
      ],
      "execution_count": 5,
      "outputs": [
        {
          "output_type": "display_data",
          "data": {
            "text/plain": [
              "<Figure size 432x288 with 1 Axes>"
            ],
            "image/png": "[encoded data removed]"
          },
          "metadata": {
            "needs_background": "light"
          }
        },
        {
          "output_type": "stream",
          "name": "stdout",
          "text": [
            "2\n"
          ]
        }
      ]
    },
    {
      "cell_type": "code",
      "metadata": {
        "id": "tmEmkBfZVhou",
        "colab": {
          "base_uri": "https://localhost:8080/"
        },
        "outputId": "228d0b36-0bf2-4c12-ebd2-bf0a9f36b92e"
      },
      "source": [
        "x_train = x_train.reshape(60000, 784)\n",
        "x_test = x_test.reshape(10000, 784)\n",
        "x_train = x_train.astype('float32')\n",
        "x_test = x_test.astype('float32')\n",
        "# can also use scikit.learn.standarscalor\n",
        "x_train /= 255\n",
        "x_test /= 255\n",
        "print(x_train.shape[0], 'train samples')\n",
        "print(x_test.shape[0], 'test samples')\n",
        "\n",
        "y_train[0:20]"
      ],
      "execution_count": 6,
      "outputs": [
        {
          "output_type": "stream",
          "name": "stdout",
          "text": [
            "60000 train samples\n",
            "10000 test samples\n"
          ]
        },
        {
          "output_type": "execute_result",
          "data": {
            "text/plain": [
              "array([5, 0, 4, 1, 9, 2, 1, 3, 1, 4, 3, 5, 3, 6, 1, 7, 2, 8, 6, 9],\n",
              "      dtype=uint8)"
            ]
          },
          "metadata": {},
          "execution_count": 6
        }
      ]
    },
    {
      "cell_type": "code",
      "metadata": {
        "id": "BBn9ZkA6p5C4",
        "colab": {
          "base_uri": "https://localhost:8080/"
        },
        "outputId": "4867ce43-9fb5-455a-aea8-66174aaabf07"
      },
      "source": [
        "y_train.shape"
      ],
      "execution_count": 7,
      "outputs": [
        {
          "output_type": "execute_result",
          "data": {
            "text/plain": [
              "(60000,)"
            ]
          },
          "metadata": {},
          "execution_count": 7
        }
      ]
    },
    {
      "cell_type": "code",
      "metadata": {
        "id": "7hAU2yCAarX6",
        "colab": {
          "base_uri": "https://localhost:8080/"
        },
        "outputId": "aaa39f07-16c7-47cf-c07b-8fbd92253f7b"
      },
      "source": [
        "# convert class vectors to binary class matrices\n",
        "y_train = to_categorical(y_train, num_classes)\n",
        "y_test = to_categorical(y_test, num_classes)\n",
        "\n",
        "y_train.shape"
      ],
      "execution_count": 8,
      "outputs": [
        {
          "output_type": "execute_result",
          "data": {
            "text/plain": [
              "(60000, 10)"
            ]
          },
          "metadata": {},
          "execution_count": 8
        }
      ]
    },
    {
      "cell_type": "code",
      "metadata": {
        "id": "QktvqwX-qA7A",
        "colab": {
          "base_uri": "https://localhost:8080/"
        },
        "outputId": "3d3c5142-6f9e-41fc-b147-20bef8716833"
      },
      "source": [
        "y_train[0:20,:]"
      ],
      "execution_count": 9,
      "outputs": [
        {
          "output_type": "execute_result",
          "data": {
            "text/plain": [
              "array([[0., 0., 0., 0., 0., 1., 0., 0., 0., 0.],\n",
              "       [1., 0., 0., 0., 0., 0., 0., 0., 0., 0.],\n",
              "       [0., 0., 0., 0., 1., 0., 0., 0., 0., 0.],\n",
              "       [0., 1., 0., 0., 0., 0., 0., 0., 0., 0.],\n",
              "       [0., 0., 0., 0., 0., 0., 0., 0., 0., 1.],\n",
              "       [0., 0., 1., 0., 0., 0., 0., 0., 0., 0.],\n",
              "       [0., 1., 0., 0., 0., 0., 0., 0., 0., 0.],\n",
              "       [0., 0., 0., 1., 0., 0., 0., 0., 0., 0.],\n",
              "       [0., 1., 0., 0., 0., 0., 0., 0., 0., 0.],\n",
              "       [0., 0., 0., 0., 1., 0., 0., 0., 0., 0.],\n",
              "       [0., 0., 0., 1., 0., 0., 0., 0., 0., 0.],\n",
              "       [0., 0., 0., 0., 0., 1., 0., 0., 0., 0.],\n",
              "       [0., 0., 0., 1., 0., 0., 0., 0., 0., 0.],\n",
              "       [0., 0., 0., 0., 0., 0., 1., 0., 0., 0.],\n",
              "       [0., 1., 0., 0., 0., 0., 0., 0., 0., 0.],\n",
              "       [0., 0., 0., 0., 0., 0., 0., 1., 0., 0.],\n",
              "       [0., 0., 1., 0., 0., 0., 0., 0., 0., 0.],\n",
              "       [0., 0., 0., 0., 0., 0., 0., 0., 1., 0.],\n",
              "       [0., 0., 0., 0., 0., 0., 1., 0., 0., 0.],\n",
              "       [0., 0., 0., 0., 0., 0., 0., 0., 0., 1.]], dtype=float32)"
            ]
          },
          "metadata": {},
          "execution_count": 9
        }
      ]
    },
    {
      "cell_type": "markdown",
      "metadata": {
        "id": "A6fsLFNuToGT"
      },
      "source": [
        "**Model description**\n",
        "\n",
        "- Put the \"lego blocks\" together\n"
      ]
    },
    {
      "cell_type": "code",
      "metadata": {
        "id": "da2g0aUtasqZ",
        "colab": {
          "base_uri": "https://localhost:8080/"
        },
        "outputId": "bb1b2dad-453f-4717-aeed-0625985fa800"
      },
      "source": [
        "# know more about the activation: https://medium.com/dataseries/basic-overview-of-convolutional-neural-network-cnn-4fcc7dbb4f17\n",
        "model = Sequential()\n",
        "model.add(Dense(512, activation='relu', input_shape=(784,)))\n",
        "#\n",
        "model.add(Dropout(0.2))\n",
        "model.add(Dense(512, activation='relu'))\n",
        "model.add(Dropout(0.2))\n",
        "#\n",
        "model.add(Dense(num_classes, activation='softmax'))\n",
        "\n",
        "model.summary()"
      ],
      "execution_count": 15,
      "outputs": [
        {
          "output_type": "stream",
          "name": "stdout",
          "text": [
            "Model: \"sequential_1\"\n",
            "_________________________________________________________________\n",
            " Layer (type)                Output Shape              Param #   \n",
            "=================================================================\n",
            " dense_2 (Dense)             (None, 512)               401920    \n",
            "                                                                 \n",
            " dropout (Dropout)           (None, 512)               0         \n",
            "                                                                 \n",
            " dense_3 (Dense)             (None, 512)               262656    \n",
            "                                                                 \n",
            " dropout_1 (Dropout)         (None, 512)               0         \n",
            "                                                                 \n",
            " dense_4 (Dense)             (None, 10)                5130      \n",
            "                                                                 \n",
            "=================================================================\n",
            "Total params: 669,706\n",
            "Trainable params: 669,706\n",
            "Non-trainable params: 0\n",
            "_________________________________________________________________\n"
          ]
        }
      ]
    },
    {
      "cell_type": "markdown",
      "metadata": {
        "id": "rhe2oZUrT22k"
      },
      "source": [
        "**Visualization of the model**"
      ]
    },
    {
      "cell_type": "code",
      "metadata": {
        "id": "jKNUlY_qR-wR",
        "colab": {
          "base_uri": "https://localhost:8080/",
          "height": 644
        },
        "outputId": "b794c6f7-8a76-43c8-ceaf-32487f464b23"
      },
      "source": [
        "from keras.utils.vis_utils import plot_model\n",
        "\n",
        "#plot_model(model, to_file='model_plot.png', show_shapes=True, show_layer_names=True)\n",
        "plot_model(model, show_shapes=True, show_layer_names=True)"
      ],
      "execution_count": 16,
      "outputs": [
        {
          "output_type": "execute_result",
          "data": {
            "text/plain": [
              "<IPython.core.display.Image object>"
            ],
            "image/png": "[encoded data removed]"
          },
          "metadata": {},
          "execution_count": 16
        }
      ]
    },
    {
      "cell_type": "markdown",
      "metadata": {
        "id": "wxr8cUXYUMFG"
      },
      "source": [
        "**Compile the model**"
      ]
    },
    {
      "cell_type": "code",
      "metadata": {
        "id": "9wfzDgzIavDY"
      },
      "source": [
        "model.compile(loss='categorical_crossentropy',\n",
        "              optimizer=RMSprop(),\n",
        "              metrics=['accuracy'])"
      ],
      "execution_count": 17,
      "outputs": []
    },
    {
      "cell_type": "markdown",
      "metadata": {
        "id": "GDsuGn2wUUkl"
      },
      "source": [
        "**Fit the model**"
      ]
    },
    {
      "cell_type": "code",
      "metadata": {
        "id": "rIMwjczibWT1",
        "colab": {
          "base_uri": "https://localhost:8080/"
        },
        "outputId": "f26acb1f-a0d7-4c50-b14b-a105063feb4e"
      },
      "source": [
        "history = model.fit(x_train, y_train,\n",
        "                    batch_size=batch_size,\n",
        "                    epochs=50,\n",
        "                    verbose=1,\n",
        "                    validation_data=(x_test, y_test))"
      ],
      "execution_count": 18,
      "outputs": [
        {
          "output_type": "stream",
          "name": "stdout",
          "text": [
            "Epoch 1/50\n",
            "3/3 [==============================] - 1s 141ms/step - loss: 1.8962 - accuracy: 0.3689 - val_loss: 1.1991 - val_accuracy: 0.5822\n",
            "Epoch 2/50\n",
            "3/3 [==============================] - 0s 73ms/step - loss: 1.1018 - accuracy: 0.6434 - val_loss: 0.7797 - val_accuracy: 0.7606\n",
            "Epoch 3/50\n",
            "3/3 [==============================] - 0s 62ms/step - loss: 0.7975 - accuracy: 0.7549 - val_loss: 0.5943 - val_accuracy: 0.8288\n",
            "Epoch 4/50\n",
            "3/3 [==============================] - 0s 57ms/step - loss: 0.5759 - accuracy: 0.8309 - val_loss: 0.4916 - val_accuracy: 0.8438\n",
            "Epoch 5/50\n",
            "3/3 [==============================] - 0s 56ms/step - loss: 0.5290 - accuracy: 0.8299 - val_loss: 0.5153 - val_accuracy: 0.8267\n",
            "Epoch 6/50\n",
            "3/3 [==============================] - 0s 56ms/step - loss: 0.5403 - accuracy: 0.8223 - val_loss: 0.3660 - val_accuracy: 0.8920\n",
            "Epoch 7/50\n",
            "3/3 [==============================] - 0s 54ms/step - loss: 0.3755 - accuracy: 0.8906 - val_loss: 0.3064 - val_accuracy: 0.9137\n",
            "Epoch 8/50\n",
            "3/3 [==============================] - 0s 56ms/step - loss: 0.3501 - accuracy: 0.8967 - val_loss: 0.4037 - val_accuracy: 0.8675\n",
            "Epoch 9/50\n",
            "3/3 [==============================] - 0s 57ms/step - loss: 0.4634 - accuracy: 0.8437 - val_loss: 0.3187 - val_accuracy: 0.9032\n",
            "Epoch 10/50\n",
            "3/3 [==============================] - 0s 56ms/step - loss: 0.3220 - accuracy: 0.9052 - val_loss: 0.2714 - val_accuracy: 0.9214\n",
            "Epoch 11/50\n",
            "3/3 [==============================] - 0s 60ms/step - loss: 0.3151 - accuracy: 0.9036 - val_loss: 0.3149 - val_accuracy: 0.9017\n",
            "Epoch 12/50\n",
            "3/3 [==============================] - 0s 55ms/step - loss: 0.3087 - accuracy: 0.9063 - val_loss: 0.2429 - val_accuracy: 0.9277\n",
            "Epoch 13/50\n",
            "3/3 [==============================] - 0s 56ms/step - loss: 0.2643 - accuracy: 0.9225 - val_loss: 0.2749 - val_accuracy: 0.9185\n",
            "Epoch 14/50\n",
            "3/3 [==============================] - 0s 55ms/step - loss: 0.3610 - accuracy: 0.8840 - val_loss: 0.3174 - val_accuracy: 0.8946\n",
            "Epoch 15/50\n",
            "3/3 [==============================] - 0s 51ms/step - loss: 0.2742 - accuracy: 0.9167 - val_loss: 0.2030 - val_accuracy: 0.9389\n",
            "Epoch 16/50\n",
            "3/3 [==============================] - 0s 58ms/step - loss: 0.2268 - accuracy: 0.9333 - val_loss: 0.2262 - val_accuracy: 0.9303\n",
            "Epoch 17/50\n",
            "3/3 [==============================] - 0s 53ms/step - loss: 0.2793 - accuracy: 0.9131 - val_loss: 0.2688 - val_accuracy: 0.9178\n",
            "Epoch 18/50\n",
            "3/3 [==============================] - 0s 53ms/step - loss: 0.2461 - accuracy: 0.9245 - val_loss: 0.1890 - val_accuracy: 0.9420\n",
            "Epoch 19/50\n",
            "3/3 [==============================] - 0s 55ms/step - loss: 0.2110 - accuracy: 0.9370 - val_loss: 0.2056 - val_accuracy: 0.9352\n",
            "Epoch 20/50\n",
            "3/3 [==============================] - 0s 58ms/step - loss: 0.2256 - accuracy: 0.9296 - val_loss: 0.1835 - val_accuracy: 0.9451\n",
            "Epoch 21/50\n",
            "3/3 [==============================] - 0s 55ms/step - loss: 0.1992 - accuracy: 0.9409 - val_loss: 0.2025 - val_accuracy: 0.9366\n",
            "Epoch 22/50\n",
            "3/3 [==============================] - 0s 57ms/step - loss: 0.2232 - accuracy: 0.9321 - val_loss: 0.2247 - val_accuracy: 0.9250\n",
            "Epoch 23/50\n",
            "3/3 [==============================] - 0s 53ms/step - loss: 0.2396 - accuracy: 0.9218 - val_loss: 0.1874 - val_accuracy: 0.9432\n",
            "Epoch 24/50\n",
            "3/3 [==============================] - 0s 57ms/step - loss: 0.1798 - accuracy: 0.9465 - val_loss: 0.1516 - val_accuracy: 0.9517\n",
            "Epoch 25/50\n",
            "3/3 [==============================] - 0s 56ms/step - loss: 0.1783 - accuracy: 0.9458 - val_loss: 0.2583 - val_accuracy: 0.9215\n",
            "Epoch 26/50\n",
            "3/3 [==============================] - 0s 60ms/step - loss: 0.2333 - accuracy: 0.9275 - val_loss: 0.1627 - val_accuracy: 0.9515\n",
            "Epoch 27/50\n",
            "3/3 [==============================] - 0s 58ms/step - loss: 0.1701 - accuracy: 0.9486 - val_loss: 0.1509 - val_accuracy: 0.9529\n",
            "Epoch 28/50\n",
            "3/3 [==============================] - 0s 55ms/step - loss: 0.1531 - accuracy: 0.9537 - val_loss: 0.1387 - val_accuracy: 0.9577\n",
            "Epoch 29/50\n",
            "3/3 [==============================] - 0s 57ms/step - loss: 0.1440 - accuracy: 0.9567 - val_loss: 0.1433 - val_accuracy: 0.9532\n",
            "Epoch 30/50\n",
            "3/3 [==============================] - 0s 57ms/step - loss: 0.1643 - accuracy: 0.9484 - val_loss: 0.2051 - val_accuracy: 0.9346\n",
            "Epoch 31/50\n",
            "3/3 [==============================] - 0s 57ms/step - loss: 0.1867 - accuracy: 0.9406 - val_loss: 0.1586 - val_accuracy: 0.9494\n",
            "Epoch 32/50\n",
            "3/3 [==============================] - 0s 54ms/step - loss: 0.1657 - accuracy: 0.9475 - val_loss: 0.1485 - val_accuracy: 0.9538\n",
            "Epoch 33/50\n",
            "3/3 [==============================] - 0s 53ms/step - loss: 0.1379 - accuracy: 0.9586 - val_loss: 0.1276 - val_accuracy: 0.9597\n",
            "Epoch 34/50\n",
            "3/3 [==============================] - 0s 57ms/step - loss: 0.1288 - accuracy: 0.9606 - val_loss: 0.1381 - val_accuracy: 0.9570\n",
            "Epoch 35/50\n",
            "3/3 [==============================] - 0s 55ms/step - loss: 0.1427 - accuracy: 0.9567 - val_loss: 0.1387 - val_accuracy: 0.9549\n",
            "Epoch 36/50\n",
            "3/3 [==============================] - 0s 55ms/step - loss: 0.1531 - accuracy: 0.9512 - val_loss: 0.2008 - val_accuracy: 0.9334\n",
            "Epoch 37/50\n",
            "3/3 [==============================] - 0s 58ms/step - loss: 0.1692 - accuracy: 0.9465 - val_loss: 0.1066 - val_accuracy: 0.9673\n",
            "Epoch 38/50\n",
            "3/3 [==============================] - 0s 58ms/step - loss: 0.1029 - accuracy: 0.9701 - val_loss: 0.1025 - val_accuracy: 0.9681\n",
            "Epoch 39/50\n",
            "3/3 [==============================] - 0s 56ms/step - loss: 0.0998 - accuracy: 0.9706 - val_loss: 0.1084 - val_accuracy: 0.9666\n",
            "Epoch 40/50\n",
            "3/3 [==============================] - 0s 54ms/step - loss: 0.1311 - accuracy: 0.9593 - val_loss: 0.2244 - val_accuracy: 0.9266\n",
            "Epoch 41/50\n",
            "3/3 [==============================] - 0s 54ms/step - loss: 0.1807 - accuracy: 0.9407 - val_loss: 0.1074 - val_accuracy: 0.9681\n",
            "Epoch 42/50\n",
            "3/3 [==============================] - 0s 53ms/step - loss: 0.0995 - accuracy: 0.9711 - val_loss: 0.0991 - val_accuracy: 0.9685\n",
            "Epoch 43/50\n",
            "3/3 [==============================] - 0s 52ms/step - loss: 0.0933 - accuracy: 0.9727 - val_loss: 0.1054 - val_accuracy: 0.9680\n",
            "Epoch 44/50\n",
            "3/3 [==============================] - 0s 53ms/step - loss: 0.1048 - accuracy: 0.9682 - val_loss: 0.1270 - val_accuracy: 0.9586\n",
            "Epoch 45/50\n",
            "3/3 [==============================] - 0s 55ms/step - loss: 0.1332 - accuracy: 0.9574 - val_loss: 0.1421 - val_accuracy: 0.9547\n",
            "Epoch 46/50\n",
            "3/3 [==============================] - 0s 59ms/step - loss: 0.1148 - accuracy: 0.9646 - val_loss: 0.0935 - val_accuracy: 0.9701\n",
            "Epoch 47/50\n",
            "3/3 [==============================] - 0s 57ms/step - loss: 0.0832 - accuracy: 0.9748 - val_loss: 0.0954 - val_accuracy: 0.9700\n",
            "Epoch 48/50\n",
            "3/3 [==============================] - 0s 57ms/step - loss: 0.0850 - accuracy: 0.9740 - val_loss: 0.1122 - val_accuracy: 0.9641\n",
            "Epoch 49/50\n",
            "3/3 [==============================] - 0s 58ms/step - loss: 0.1189 - accuracy: 0.9614 - val_loss: 0.1226 - val_accuracy: 0.9601\n",
            "Epoch 50/50\n",
            "3/3 [==============================] - 0s 54ms/step - loss: 0.0928 - accuracy: 0.9708 - val_loss: 0.0985 - val_accuracy: 0.9690\n"
          ]
        }
      ]
    },
    {
      "cell_type": "markdown",
      "metadata": {
        "id": "59yzdghjUYz-"
      },
      "source": [
        "**Evaluate the model**"
      ]
    },
    {
      "cell_type": "code",
      "metadata": {
        "id": "i1rvdGORa0fI",
        "colab": {
          "base_uri": "https://localhost:8080/"
        },
        "outputId": "d45841c1-48b0-4ac5-99d6-2db56b157c9f"
      },
      "source": [
        "score = model.evaluate(x_test, y_test, verbose=0)\n",
        "print('Test loss:', score[0])\n",
        "print('Test accuracy:', score[1])"
      ],
      "execution_count": 19,
      "outputs": [
        {
          "output_type": "stream",
          "name": "stdout",
          "text": [
            "Test loss: 0.09852203726768494\n",
            "Test accuracy: 0.968999981880188\n"
          ]
        }
      ]
    }
  ]
}